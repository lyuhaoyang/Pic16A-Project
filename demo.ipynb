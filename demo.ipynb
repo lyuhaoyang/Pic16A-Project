{
 "cells": [
  {
   "cell_type": "code",
   "execution_count": 1,
   "id": "c772039b",
   "metadata": {},
   "outputs": [],
   "source": [
    "import numpy as np\n",
    "import pandas as pd\n",
    "\n",
    "from basketball import get_column_correlation, normed_error, march_madness, basketball_team, linear_regression\n",
    "\n",
    "bbData = pd.read_csv(\"cbb20.csv\")"
   ]
  },
  {
   "cell_type": "markdown",
   "id": "5121ca79",
   "metadata": {},
   "source": [
    "# College Basketball Match Predictor\n",
    "\n",
    "In this project, we are going to formulate a predictor model for college basketball matches based on data from https://www.kaggle.com/datasets/andrewsundberg/college-basketball-dataset"
   ]
  },
  {
   "cell_type": "markdown",
   "id": "3e478bf0",
   "metadata": {},
   "source": [
    "The training data is the match result in year 2020. We first remove the ranking column since that's what we plan to predict.\n",
    "And we produce a custom class called \"basketball_team\" which is a subclass of dataframe ."
   ]
  },
  {
   "cell_type": "code",
   "execution_count": 2,
   "id": "906c9405-346e-44be-b749-937458d128bd",
   "metadata": {},
   "outputs": [],
   "source": [
    "bbDataCleaned = bbData.drop(['RK', 'WAB'], axis = 1)\n",
    "basketball = basketball_team(bbDataCleaned)"
   ]
  },
  {
   "cell_type": "code",
   "execution_count": 3,
   "id": "a91e5338",
   "metadata": {},
   "outputs": [
    {
     "data": {
      "text/html": [
       "<div>\n",
       "<style scoped>\n",
       "    .dataframe tbody tr th:only-of-type {\n",
       "        vertical-align: middle;\n",
       "    }\n",
       "\n",
       "    .dataframe tbody tr th {\n",
       "        vertical-align: top;\n",
       "    }\n",
       "\n",
       "    .dataframe thead th {\n",
       "        text-align: right;\n",
       "    }\n",
       "</style>\n",
       "<table border=\"1\" class=\"dataframe\">\n",
       "  <thead>\n",
       "    <tr style=\"text-align: right;\">\n",
       "      <th></th>\n",
       "      <th>TEAM</th>\n",
       "      <th>CONF</th>\n",
       "      <th>G</th>\n",
       "      <th>W</th>\n",
       "      <th>ADJOE</th>\n",
       "      <th>ADJDE</th>\n",
       "      <th>BARTHAG</th>\n",
       "      <th>EFG_O</th>\n",
       "      <th>EFG_D</th>\n",
       "      <th>TOR</th>\n",
       "      <th>TORD</th>\n",
       "      <th>ORB</th>\n",
       "      <th>DRB</th>\n",
       "      <th>FTR</th>\n",
       "      <th>FTRD</th>\n",
       "      <th>2P_O</th>\n",
       "      <th>2P_D</th>\n",
       "      <th>3P_O</th>\n",
       "      <th>3P_D</th>\n",
       "      <th>ADJ_T</th>\n",
       "    </tr>\n",
       "  </thead>\n",
       "  <tbody>\n",
       "    <tr>\n",
       "      <th>0</th>\n",
       "      <td>Kansas</td>\n",
       "      <td>B12</td>\n",
       "      <td>30</td>\n",
       "      <td>28</td>\n",
       "      <td>116.1</td>\n",
       "      <td>87.7</td>\n",
       "      <td>0.9616</td>\n",
       "      <td>53.7</td>\n",
       "      <td>43.7</td>\n",
       "      <td>18.7</td>\n",
       "      <td>18.6</td>\n",
       "      <td>32.6</td>\n",
       "      <td>26.4</td>\n",
       "      <td>35.8</td>\n",
       "      <td>23.2</td>\n",
       "      <td>54.9</td>\n",
       "      <td>42.4</td>\n",
       "      <td>34.1</td>\n",
       "      <td>30.5</td>\n",
       "      <td>67.4</td>\n",
       "    </tr>\n",
       "    <tr>\n",
       "      <th>1</th>\n",
       "      <td>Baylor</td>\n",
       "      <td>B12</td>\n",
       "      <td>30</td>\n",
       "      <td>26</td>\n",
       "      <td>114.5</td>\n",
       "      <td>88.4</td>\n",
       "      <td>0.9513</td>\n",
       "      <td>49.4</td>\n",
       "      <td>45.2</td>\n",
       "      <td>17.8</td>\n",
       "      <td>22.7</td>\n",
       "      <td>35.8</td>\n",
       "      <td>29.8</td>\n",
       "      <td>30.8</td>\n",
       "      <td>30.8</td>\n",
       "      <td>47.5</td>\n",
       "      <td>44.4</td>\n",
       "      <td>35.1</td>\n",
       "      <td>31.1</td>\n",
       "      <td>66.2</td>\n",
       "    </tr>\n",
       "    <tr>\n",
       "      <th>2</th>\n",
       "      <td>Gonzaga</td>\n",
       "      <td>WCC</td>\n",
       "      <td>33</td>\n",
       "      <td>31</td>\n",
       "      <td>121.3</td>\n",
       "      <td>94.3</td>\n",
       "      <td>0.9472</td>\n",
       "      <td>57.5</td>\n",
       "      <td>47.6</td>\n",
       "      <td>15.3</td>\n",
       "      <td>18.4</td>\n",
       "      <td>33.6</td>\n",
       "      <td>22.7</td>\n",
       "      <td>38.8</td>\n",
       "      <td>21.8</td>\n",
       "      <td>57.4</td>\n",
       "      <td>47.4</td>\n",
       "      <td>38.6</td>\n",
       "      <td>32.0</td>\n",
       "      <td>72.0</td>\n",
       "    </tr>\n",
       "    <tr>\n",
       "      <th>3</th>\n",
       "      <td>Dayton</td>\n",
       "      <td>A10</td>\n",
       "      <td>31</td>\n",
       "      <td>29</td>\n",
       "      <td>119.5</td>\n",
       "      <td>93.4</td>\n",
       "      <td>0.9445</td>\n",
       "      <td>59.7</td>\n",
       "      <td>46.6</td>\n",
       "      <td>18.0</td>\n",
       "      <td>18.8</td>\n",
       "      <td>26.4</td>\n",
       "      <td>26.6</td>\n",
       "      <td>33.9</td>\n",
       "      <td>30.9</td>\n",
       "      <td>62.3</td>\n",
       "      <td>45.1</td>\n",
       "      <td>37.1</td>\n",
       "      <td>33.0</td>\n",
       "      <td>67.5</td>\n",
       "    </tr>\n",
       "    <tr>\n",
       "      <th>4</th>\n",
       "      <td>Michigan St.</td>\n",
       "      <td>B10</td>\n",
       "      <td>31</td>\n",
       "      <td>22</td>\n",
       "      <td>114.8</td>\n",
       "      <td>91.3</td>\n",
       "      <td>0.9326</td>\n",
       "      <td>52.6</td>\n",
       "      <td>43.3</td>\n",
       "      <td>18.1</td>\n",
       "      <td>15.8</td>\n",
       "      <td>32.8</td>\n",
       "      <td>26.0</td>\n",
       "      <td>30.8</td>\n",
       "      <td>29.3</td>\n",
       "      <td>52.9</td>\n",
       "      <td>43.4</td>\n",
       "      <td>34.8</td>\n",
       "      <td>28.7</td>\n",
       "      <td>69.3</td>\n",
       "    </tr>\n",
       "    <tr>\n",
       "      <th>...</th>\n",
       "      <td>...</td>\n",
       "      <td>...</td>\n",
       "      <td>...</td>\n",
       "      <td>...</td>\n",
       "      <td>...</td>\n",
       "      <td>...</td>\n",
       "      <td>...</td>\n",
       "      <td>...</td>\n",
       "      <td>...</td>\n",
       "      <td>...</td>\n",
       "      <td>...</td>\n",
       "      <td>...</td>\n",
       "      <td>...</td>\n",
       "      <td>...</td>\n",
       "      <td>...</td>\n",
       "      <td>...</td>\n",
       "      <td>...</td>\n",
       "      <td>...</td>\n",
       "      <td>...</td>\n",
       "      <td>...</td>\n",
       "    </tr>\n",
       "    <tr>\n",
       "      <th>348</th>\n",
       "      <td>Arkansas Pine Bluff</td>\n",
       "      <td>SWAC</td>\n",
       "      <td>29</td>\n",
       "      <td>4</td>\n",
       "      <td>80.1</td>\n",
       "      <td>104.3</td>\n",
       "      <td>0.0461</td>\n",
       "      <td>43.1</td>\n",
       "      <td>48.9</td>\n",
       "      <td>26.2</td>\n",
       "      <td>20.6</td>\n",
       "      <td>27.1</td>\n",
       "      <td>30.7</td>\n",
       "      <td>37.4</td>\n",
       "      <td>46.3</td>\n",
       "      <td>44.6</td>\n",
       "      <td>50.2</td>\n",
       "      <td>26.3</td>\n",
       "      <td>31.1</td>\n",
       "      <td>66.1</td>\n",
       "    </tr>\n",
       "    <tr>\n",
       "      <th>349</th>\n",
       "      <td>Maryland Eastern Shore</td>\n",
       "      <td>MEAC</td>\n",
       "      <td>31</td>\n",
       "      <td>5</td>\n",
       "      <td>82.1</td>\n",
       "      <td>108.0</td>\n",
       "      <td>0.0411</td>\n",
       "      <td>40.5</td>\n",
       "      <td>51.0</td>\n",
       "      <td>21.1</td>\n",
       "      <td>20.4</td>\n",
       "      <td>26.2</td>\n",
       "      <td>31.0</td>\n",
       "      <td>25.7</td>\n",
       "      <td>36.6</td>\n",
       "      <td>42.5</td>\n",
       "      <td>51.3</td>\n",
       "      <td>25.0</td>\n",
       "      <td>33.7</td>\n",
       "      <td>67.7</td>\n",
       "    </tr>\n",
       "    <tr>\n",
       "      <th>350</th>\n",
       "      <td>Mississippi Valley St.</td>\n",
       "      <td>SWAC</td>\n",
       "      <td>30</td>\n",
       "      <td>4</td>\n",
       "      <td>89.2</td>\n",
       "      <td>119.0</td>\n",
       "      <td>0.0350</td>\n",
       "      <td>43.0</td>\n",
       "      <td>54.0</td>\n",
       "      <td>18.2</td>\n",
       "      <td>17.6</td>\n",
       "      <td>23.5</td>\n",
       "      <td>35.9</td>\n",
       "      <td>22.9</td>\n",
       "      <td>36.1</td>\n",
       "      <td>42.2</td>\n",
       "      <td>55.5</td>\n",
       "      <td>29.4</td>\n",
       "      <td>34.1</td>\n",
       "      <td>77.4</td>\n",
       "    </tr>\n",
       "    <tr>\n",
       "      <th>351</th>\n",
       "      <td>Kennesaw St.</td>\n",
       "      <td>ASun</td>\n",
       "      <td>29</td>\n",
       "      <td>1</td>\n",
       "      <td>82.2</td>\n",
       "      <td>112.2</td>\n",
       "      <td>0.0269</td>\n",
       "      <td>39.3</td>\n",
       "      <td>55.3</td>\n",
       "      <td>21.7</td>\n",
       "      <td>18.5</td>\n",
       "      <td>25.8</td>\n",
       "      <td>31.2</td>\n",
       "      <td>32.5</td>\n",
       "      <td>30.4</td>\n",
       "      <td>40.2</td>\n",
       "      <td>55.0</td>\n",
       "      <td>24.8</td>\n",
       "      <td>37.1</td>\n",
       "      <td>68.2</td>\n",
       "    </tr>\n",
       "    <tr>\n",
       "      <th>352</th>\n",
       "      <td>Chicago St.</td>\n",
       "      <td>WAC</td>\n",
       "      <td>26</td>\n",
       "      <td>4</td>\n",
       "      <td>85.6</td>\n",
       "      <td>120.4</td>\n",
       "      <td>0.0194</td>\n",
       "      <td>45.5</td>\n",
       "      <td>57.5</td>\n",
       "      <td>26.5</td>\n",
       "      <td>16.0</td>\n",
       "      <td>20.6</td>\n",
       "      <td>32.0</td>\n",
       "      <td>42.2</td>\n",
       "      <td>42.5</td>\n",
       "      <td>45.4</td>\n",
       "      <td>55.3</td>\n",
       "      <td>30.4</td>\n",
       "      <td>40.6</td>\n",
       "      <td>69.2</td>\n",
       "    </tr>\n",
       "  </tbody>\n",
       "</table>\n",
       "<p>353 rows × 20 columns</p>\n",
       "</div>"
      ],
      "text/plain": [
       "                       TEAM  CONF   G   W  ADJOE  ADJDE  BARTHAG  EFG_O  \\\n",
       "0                    Kansas   B12  30  28  116.1   87.7   0.9616   53.7   \n",
       "1                    Baylor   B12  30  26  114.5   88.4   0.9513   49.4   \n",
       "2                   Gonzaga   WCC  33  31  121.3   94.3   0.9472   57.5   \n",
       "3                    Dayton   A10  31  29  119.5   93.4   0.9445   59.7   \n",
       "4              Michigan St.   B10  31  22  114.8   91.3   0.9326   52.6   \n",
       "..                      ...   ...  ..  ..    ...    ...      ...    ...   \n",
       "348     Arkansas Pine Bluff  SWAC  29   4   80.1  104.3   0.0461   43.1   \n",
       "349  Maryland Eastern Shore  MEAC  31   5   82.1  108.0   0.0411   40.5   \n",
       "350  Mississippi Valley St.  SWAC  30   4   89.2  119.0   0.0350   43.0   \n",
       "351            Kennesaw St.  ASun  29   1   82.2  112.2   0.0269   39.3   \n",
       "352             Chicago St.   WAC  26   4   85.6  120.4   0.0194   45.5   \n",
       "\n",
       "     EFG_D   TOR  TORD   ORB   DRB   FTR  FTRD  2P_O  2P_D  3P_O  3P_D  ADJ_T  \n",
       "0     43.7  18.7  18.6  32.6  26.4  35.8  23.2  54.9  42.4  34.1  30.5   67.4  \n",
       "1     45.2  17.8  22.7  35.8  29.8  30.8  30.8  47.5  44.4  35.1  31.1   66.2  \n",
       "2     47.6  15.3  18.4  33.6  22.7  38.8  21.8  57.4  47.4  38.6  32.0   72.0  \n",
       "3     46.6  18.0  18.8  26.4  26.6  33.9  30.9  62.3  45.1  37.1  33.0   67.5  \n",
       "4     43.3  18.1  15.8  32.8  26.0  30.8  29.3  52.9  43.4  34.8  28.7   69.3  \n",
       "..     ...   ...   ...   ...   ...   ...   ...   ...   ...   ...   ...    ...  \n",
       "348   48.9  26.2  20.6  27.1  30.7  37.4  46.3  44.6  50.2  26.3  31.1   66.1  \n",
       "349   51.0  21.1  20.4  26.2  31.0  25.7  36.6  42.5  51.3  25.0  33.7   67.7  \n",
       "350   54.0  18.2  17.6  23.5  35.9  22.9  36.1  42.2  55.5  29.4  34.1   77.4  \n",
       "351   55.3  21.7  18.5  25.8  31.2  32.5  30.4  40.2  55.0  24.8  37.1   68.2  \n",
       "352   57.5  26.5  16.0  20.6  32.0  42.2  42.5  45.4  55.3  30.4  40.6   69.2  \n",
       "\n",
       "[353 rows x 20 columns]"
      ]
     },
     "execution_count": 3,
     "metadata": {},
     "output_type": "execute_result"
    }
   ],
   "source": [
    "basketball"
   ]
  },
  {
   "cell_type": "markdown",
   "id": "9967c2cb",
   "metadata": {},
   "source": [
    "The new \"basketball_team\" class also has the properties of a python dataframe. For example, iloc() can be called"
   ]
  },
  {
   "cell_type": "code",
   "execution_count": 4,
   "id": "4a1afdcf",
   "metadata": {},
   "outputs": [
    {
     "data": {
      "text/plain": [
       "TEAM       Baylor\n",
       "CONF          B12\n",
       "G              30\n",
       "W              26\n",
       "ADJOE       114.5\n",
       "ADJDE        88.4\n",
       "BARTHAG    0.9513\n",
       "EFG_O        49.4\n",
       "EFG_D        45.2\n",
       "TOR          17.8\n",
       "TORD         22.7\n",
       "ORB          35.8\n",
       "DRB          29.8\n",
       "FTR          30.8\n",
       "FTRD         30.8\n",
       "2P_O         47.5\n",
       "2P_D         44.4\n",
       "3P_O         35.1\n",
       "3P_D         31.1\n",
       "ADJ_T        66.2\n",
       "Name: 1, dtype: object"
      ]
     },
     "execution_count": 4,
     "metadata": {},
     "output_type": "execute_result"
    }
   ],
   "source": [
    "basketball.iloc[1]"
   ]
  },
  {
   "cell_type": "markdown",
   "id": "17be4d3d",
   "metadata": {},
   "source": [
    "## get_column_correlation\n",
    "\n",
    "This is a function that produces the correlation between column data. By specifying the parameters as column names, we can get their relavent correlations, which can be used to determine which columns should be included in the regression model."
   ]
  },
  {
   "cell_type": "code",
   "execution_count": 5,
   "id": "7d741da2",
   "metadata": {},
   "outputs": [
    {
     "name": "stdout",
     "output_type": "stream",
     "text": [
      "['G', 'W', 'ADJOE', 'ADJDE', 'EFG_O', 'EFG_D', 'TOR', 'TORD', 'ORB', 'DRB', 'FTR', 'FTRD', '2P_O', '2P_D', '3P_O', '3P_D', 'ADJ_T']\n"
     ]
    }
   ],
   "source": [
    "col = list(basketball.columns[2:])\n",
    "col.remove(\"BARTHAG\")\n",
    "print(col)"
   ]
  },
  {
   "cell_type": "markdown",
   "id": "3ada463e",
   "metadata": {},
   "source": [
    "Since the goal is to predict rankings and match outcome, \"BARTHAG\" is an important column as it represents one team's probability of winning against an average team. Therefore, we use the correlation of a column with \"BARTHAG\" to determine its importance in the model."
   ]
  },
  {
   "cell_type": "code",
   "execution_count": 6,
   "id": "1f867eed",
   "metadata": {},
   "outputs": [
    {
     "name": "stdout",
     "output_type": "stream",
     "text": [
      "The correlation between BARTHAG and W is 0.76.\n",
      "The correlation between BARTHAG and ADJOE is 0.86.\n",
      "The correlation between BARTHAG and ADJDE is -0.84.\n",
      "The correlation between W and ADJOE is 0.7.\n",
      "The correlation between W and ADJDE is -0.64.\n",
      "The correlation between ADJOE and ADJDE is -0.49.\n",
      "\n"
     ]
    }
   ],
   "source": [
    "get_column_correlation(basketball, [\"BARTHAG\",\"W\",\"ADJOE\",\"ADJDE\"])"
   ]
  },
  {
   "cell_type": "markdown",
   "id": "b256ccf9",
   "metadata": {},
   "source": [
    "# obtain_average_team\n",
    "\n",
    "Since ontaining average team is important in determining one team's ranking, we also included it in the custom class of basketball_team."
   ]
  },
  {
   "cell_type": "code",
   "execution_count": 7,
   "id": "c551b693",
   "metadata": {},
   "outputs": [],
   "source": [
    "avg=basketball.obtain_average_team()"
   ]
  },
  {
   "cell_type": "code",
   "execution_count": 8,
   "id": "af42ec67",
   "metadata": {},
   "outputs": [
    {
     "data": {
      "text/plain": [
       "30.186968838526912"
      ]
     },
     "execution_count": 8,
     "metadata": {},
     "output_type": "execute_result"
    }
   ],
   "source": [
    "avg[\"G\"]"
   ]
  },
  {
   "cell_type": "markdown",
   "id": "0634f949-7a38-4d78-8c79-7844038486b8",
   "metadata": {},
   "source": [
    "## The model prediction\n",
    "This next section creates a new index by which the basketball teams are now ranked using a linear regression model. Using the desired metrics (wins, adjusted offense, and adjusted defense), an index from 2 to 0 is used for our new personalizing rankings."
   ]
  },
  {
   "cell_type": "code",
   "execution_count": 9,
   "id": "b392b300-1835-4b2e-91e3-d552cb921def",
   "metadata": {},
   "outputs": [],
   "source": [
    "lr, train_X, train_y = linear_regression(basketball)"
   ]
  },
  {
   "cell_type": "code",
   "execution_count": 10,
   "id": "53dbf674-aa02-4f5e-8ea0-57c37c4f1f1a",
   "metadata": {},
   "outputs": [
    {
     "name": "stdout",
     "output_type": "stream",
     "text": [
      "The new team rankings:\n",
      "\n",
      "         TEAM CONF   G   W  ADJOE  ADJDE  BARTHAG  EFG_O  EFG_D   TOR  ...  \\\n",
      "0     Kansas  B12  30  28  116.1   87.7   0.9616   53.7   43.7  18.7  ...   \n",
      "2    Gonzaga  WCC  33  31  121.3   94.3   0.9472   57.5   47.6  15.3  ...   \n",
      "1     Baylor  B12  30  26  114.5   88.4   0.9513   49.4   45.2  17.8  ...   \n",
      "3     Dayton  A10  31  29  119.5   93.4   0.9445   59.7   46.6  18.0  ...   \n",
      "6  Creighton   BE  30  24  120.6   96.4   0.9289   55.2   48.4  15.9  ...   \n",
      "\n",
      "    ORB   DRB   FTR  FTRD  2P_O  2P_D  3P_O  3P_D  ADJ_T  newIndex  \n",
      "0  32.6  26.4  35.8  23.2  54.9  42.4  34.1  30.5   67.4  1.630288  \n",
      "2  33.6  22.7  38.8  21.8  57.4  47.4  38.6  32.0   72.0  1.598295  \n",
      "1  35.8  29.8  30.8  30.8  47.5  44.4  35.1  31.1   66.2  1.581119  \n",
      "3  26.4  26.6  33.9  30.9  62.3  45.1  37.1  33.0   67.5  1.579760  \n",
      "6  23.9  30.2  28.8  23.4  53.0  48.9  38.7  31.8   68.3  1.542090  \n",
      "\n",
      "[5 rows x 21 columns]\n"
     ]
    }
   ],
   "source": [
    "basketball.add_index(lr, train_X)"
   ]
  },
  {
   "cell_type": "markdown",
   "id": "2f90b401",
   "metadata": {},
   "source": [
    "We can also verify our model using data from year 2021"
   ]
  },
  {
   "cell_type": "code",
   "execution_count": 12,
   "id": "ae5c0f2b",
   "metadata": {},
   "outputs": [],
   "source": [
    "bbData21 = pd.read_csv(\"cbb21.csv\")"
   ]
  },
  {
   "cell_type": "code",
   "execution_count": 13,
   "id": "d67e57d8",
   "metadata": {},
   "outputs": [],
   "source": [
    "bbDataCleaned21 = bbData.drop(['WAB'], axis = 1)\n",
    "basketball21 = basketball_team(bbDataCleaned21)"
   ]
  },
  {
   "cell_type": "code",
   "execution_count": 14,
   "id": "e1ad4904",
   "metadata": {},
   "outputs": [
    {
     "data": {
      "text/plain": [
       "0.9745098845573505"
      ]
     },
     "execution_count": 14,
     "metadata": {},
     "output_type": "execute_result"
    }
   ],
   "source": [
    "lr.score(basketball21[[\"W\",\"ADJOE\",\"ADJDE\"]], basketball21[\"BARTHAG\"])"
   ]
  },
  {
   "cell_type": "markdown",
   "id": "a1d1ebc1",
   "metadata": {},
   "source": [
    "The score is 0.9745 and it's a relatively good prediction"
   ]
  },
  {
   "cell_type": "code",
   "execution_count": 15,
   "id": "ec016f1d",
   "metadata": {},
   "outputs": [
    {
     "name": "stdout",
     "output_type": "stream",
     "text": [
      "The new team rankings:\n",
      "\n",
      "    RK       TEAM CONF   G   W  ADJOE  ADJDE  BARTHAG  EFG_O  EFG_D  ...   ORB  \\\n",
      "0   1     Kansas  B12  30  28  116.1   87.7   0.9616   53.7   43.7  ...  32.6   \n",
      "2   3    Gonzaga  WCC  33  31  121.3   94.3   0.9472   57.5   47.6  ...  33.6   \n",
      "1   2     Baylor  B12  30  26  114.5   88.4   0.9513   49.4   45.2  ...  35.8   \n",
      "3   4     Dayton  A10  31  29  119.5   93.4   0.9445   59.7   46.6  ...  26.4   \n",
      "6   7  Creighton   BE  30  24  120.6   96.4   0.9289   55.2   48.4  ...  23.9   \n",
      "\n",
      "    DRB   FTR  FTRD  2P_O  2P_D  3P_O  3P_D  ADJ_T  newIndex  \n",
      "0  26.4  35.8  23.2  54.9  42.4  34.1  30.5   67.4  1.630288  \n",
      "2  22.7  38.8  21.8  57.4  47.4  38.6  32.0   72.0  1.598295  \n",
      "1  29.8  30.8  30.8  47.5  44.4  35.1  31.1   66.2  1.581119  \n",
      "3  26.6  33.9  30.9  62.3  45.1  37.1  33.0   67.5  1.579760  \n",
      "6  30.2  28.8  23.4  53.0  48.9  38.7  31.8   68.3  1.542090  \n",
      "\n",
      "[5 rows x 22 columns]\n"
     ]
    }
   ],
   "source": [
    "basketball21.add_index(lr, basketball21[[\"W\",\"ADJOE\",\"ADJDE\"]])"
   ]
  },
  {
   "cell_type": "markdown",
   "id": "94fda4bd-151f-46a4-a599-d8ec52a58c33",
   "metadata": {},
   "source": [
    "## march_madness\n",
    "Finally, this is our implementation of the previous code. The function march_madness does primarily three things:\n",
    "\n",
    "   1. Picks the top team of every conference using our new index and then the next 32 teams not already chosen by index. These 64 teams are split into 4 regions: north, south, east and west. Seeds are set from 1 to 16 by index.\n",
    "   2. Simulates regional games for each group. In march madness, a 1 seed plays a 16 seed, a 2 plays a 15, 3 and 14... One winner is chosen from each region. The game winners are determined by their index but there is also some random chance involved, every team has the chance to upset or be upset.\n",
    "   3. With one team from each region, a final four is played and a single march madness champion is crowned!"
   ]
  },
  {
   "cell_type": "code",
   "execution_count": 11,
   "id": "fe44975d-bc39-413b-a146-e0c97f4a9429",
   "metadata": {},
   "outputs": [
    {
     "name": "stdout",
     "output_type": "stream",
     "text": [
      "Final Four Teams:\n",
      "\t North Winner: Villanova\n",
      "\t South Winner: Dayton\n",
      "\t East Winner: Gonzaga\n",
      "\t West Winner: Michigan\n",
      "\n",
      "\n",
      "The Winner of March Madness is:\n",
      "-------------------\n",
      "Michigan!!!\n",
      "-------------------\n"
     ]
    }
   ],
   "source": [
    "march_madness(basketball)"
   ]
  }
 ],
 "metadata": {
  "kernelspec": {
   "display_name": "Python 3 (ipykernel)",
   "language": "python",
   "name": "python3"
  },
  "language_info": {
   "codemirror_mode": {
    "name": "ipython",
    "version": 3
   },
   "file_extension": ".py",
   "mimetype": "text/x-python",
   "name": "python",
   "nbconvert_exporter": "python",
   "pygments_lexer": "ipython3",
   "version": "3.9.12"
  }
 },
 "nbformat": 4,
 "nbformat_minor": 5
}
